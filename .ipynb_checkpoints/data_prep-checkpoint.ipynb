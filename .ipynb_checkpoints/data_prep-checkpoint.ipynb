{
 "cells": [
  {
   "cell_type": "code",
   "execution_count": 12,
   "metadata": {
    "collapsed": true
   },
   "outputs": [],
   "source": [
    "%matplotlib inline    \n",
    "import matplotlib as mplt\n",
    "from matplotlib import cm\n",
    "import matplotlib.pyplot as plt\n",
    "import matplotlib.gridspec as gridspec\n",
    "\n",
    "import matplotlib\n",
    "from matplotlib.ticker import FuncFormatter\n",
    "import matplotlib.pyplot as plt\n",
    "# matplotlib.style.use('ggplot')\n",
    "\n",
    "from scipy.stats import lognorm\n",
    "from scipy.stats import norm\n",
    "from scipy.stats import chisqprob\n",
    "\n",
    "from numpy import prod\n",
    "import seaborn as sns\n",
    "\n",
    "# statiscal models\n",
    "import statsmodels as sm\n",
    "from statsmodels.tsa.stattools import acf  \n",
    "from statsmodels.tsa.stattools import pacf\n",
    "from statsmodels.tsa.api import VAR, DynamicVAR\n",
    "\n",
    "from statsmodels.stats import diagnostic\n",
    "\n",
    "# local packages\n",
    "from utils_libs import *\n",
    "from utils_data_prep import *"
   ]
  },
  {
   "cell_type": "code",
   "execution_count": 13,
   "metadata": {},
   "outputs": [
    {
     "name": "stdout",
     "output_type": "stream",
     "text": [
      "539157 10641\n"
     ]
    }
   ],
   "source": [
    "# --- Load pre-processed order book data ---\n",
    "\n",
    "all_dta_minu = np.load(\"../dataset/bitcoin/dta_minu.dat\")\n",
    "all_loc_hour = np.load(\"../dataset/bitcoin/loc_hour.dat\")\n",
    "print len(all_dta_minu), len(all_loc_hour)\n",
    "\n",
    "# --- Load order book data files ---\n",
    "\n",
    "# all_dta_minu,all_loc_hour = load_raw_order_book_files('../dataset/bitcoin/order_book/*.csv', True)"
   ]
  },
  {
   "cell_type": "code",
   "execution_count": 14,
   "metadata": {},
   "outputs": [
    {
     "name": "stdout",
     "output_type": "stream",
     "text": [
      "(539157,) (539157, 2)\n",
      "539157 528516 10641 10641\n"
     ]
    }
   ],
   "source": [
    "# --- calculate price, return and volatility ---\n",
    "\n",
    "price_minu, req_minu = cal_price_req_minu(all_dta_minu)\n",
    "\n",
    "print np.shape(price_minu), np.shape(req_minu)\n",
    "\n",
    "pvol_hour = cal_price_volatility_hour( all_loc_hour, price_minu )\n",
    "return_minu, rvol_hour = cal_return_volatility_hour( all_loc_hour, price_minu, 'per' )\n",
    "\n",
    "print len(price_minu),len(return_minu), len(pvol_hour), len(rvol_hour)"
   ]
  },
  {
   "cell_type": "code",
   "execution_count": 15,
   "metadata": {},
   "outputs": [
    {
     "name": "stdout",
     "output_type": "stream",
     "text": [
      "(539157, 10)\n"
     ]
    }
   ],
   "source": [
    "# --- extract features w.r.t. minutes ---\n",
    "\n",
    "features_minu = [] \n",
    "# ask mean price, mean amount, var price, var amount, \n",
    "# bid mean price, mean amount, var price, var amount,\n",
    "# ask skew price, skew amount\n",
    "# bid skew price, skew amount, \n",
    "# ask request, bid request\n",
    "\n",
    "for i in range( len(all_dta_minu) ):\n",
    "    \n",
    "    # shape: # by [price, amount]\n",
    "    tmp_a = all_dta_minu[i][0]\n",
    "    tmp_b = all_dta_minu[i][1]\n",
    "\n",
    "    '''\n",
    "    tmpft = mle_norm_2d(tmp_a)\n",
    "    tmp = tmpft[0] + tmpft[1]\n",
    "    \n",
    "    tmpft = mle_norm_2d(tmp_b)\n",
    "    tmp += tmpft[0]\n",
    "    tmp += tmpft[1]\n",
    "    \n",
    "    # skewness feature\n",
    "    tmp += skewness(tmp_a)\n",
    "    tmp += skewness(tmp_b)\n",
    "    \n",
    "    # amount of requests\n",
    "    tmp += [len(all_dta_minu[i][0]), len(all_dta_minu[i][1])] \n",
    "    \n",
    "    '''\n",
    "    features_minu.append( orderbook_stat_features(all_dta_minu, i) )\n",
    "    \n",
    "#  shape: [miniutes, features]\n",
    "features_minu = np.reshape( features_minu, (len(features_minu), -1) )\n",
    "\n",
    "print np.shape( np.asarray(features_minu) )"
   ]
  },
  {
   "cell_type": "code",
   "execution_count": null,
   "metadata": {
    "collapsed": true
   },
   "outputs": [],
   "source": [
    "# --- parameter set-up for preparing trainning and testing data ---\n",
    "para_order_minu = 10\n",
    "para_order_hour = 16\n",
    "para_train_split_ratio = 0.8\n",
    "bool_feature_selection = True\n"
   ]
  },
  {
   "cell_type": "code",
   "execution_count": 61,
   "metadata": {},
   "outputs": [
    {
     "name": "stdout",
     "output_type": "stream",
     "text": [
      "(8515,) (8515,) (2125,) (2125,)\n",
      "10640 10640\n"
     ]
    }
   ],
   "source": [
    "# --- obtain training and testing data, garch ---\n",
    "\n",
    "file_postfix = \"garch\" \n",
    "\n",
    "vol_train, rt_train, vol_test, rt_test = training_testing_garch(rvol_hour, all_loc_hour, para_order_hour, \\\n",
    "                                                                para_train_split_ratio, price_minu)\n",
    "\n",
    "print np.shape(vol_train), np.shape(rt_train), np.shape(vol_test), np.shape(rt_test)\n",
    "print len(rt_train)+len(rt_test), len(vol_train)+len(vol_test)\n",
    "\n",
    "np.asarray(vol_train).dump(\"../dataset/bitcoin/training_data/voltrain_\"+file_postfix+\".dat\")\n",
    "np.asarray(rt_train).dump(\"../dataset/bitcoin/training_data/rttrain_\"  +file_postfix+\".dat\")\n",
    "np.asarray(vol_test).dump(\"../dataset/bitcoin/training_data/voltest_\"  +file_postfix+\".dat\")\n",
    "np.asarray(rt_test).dump(\"../dataset/bitcoin/training_data/rttest_\"    +file_postfix+\".dat\")"
   ]
  },
  {
   "cell_type": "code",
   "execution_count": 18,
   "metadata": {},
   "outputs": [
    {
     "name": "stdout",
     "output_type": "stream",
     "text": [
      "(8515,) (8515, 140) (2125,) (2125, 140)\n"
     ]
    }
   ],
   "source": [
    "# --- obtain training and testing data, arima, structural time series ---\n",
    "\n",
    "file_postfix = \"stat\" \n",
    "\n",
    "xtrain, extrain, xtest, extest = training_testing_statistic(features_minu, rvol_hour, all_loc_hour, \\\n",
    "                                   para_order_minu, para_order_hour, para_train_split_ratio)\n",
    "\n",
    "print np.shape(xtrain), np.shape(extrain), np.shape(xtest), np.shape(extest)\n",
    "\n",
    "np.asarray(xtrain).dump(\"../dataset/bitcoin/training_data/xtrain_\"+file_postfix+\".dat\")\n",
    "np.asarray(xtest ).dump(\"../dataset/bitcoin/training_data/xtest_\" +file_postfix+\".dat\")\n",
    "np.asarray(extrain).dump(\"../dataset/bitcoin/training_data/extrain_\"+file_postfix+\".dat\")\n",
    "np.asarray(extest ).dump(\"../dataset/bitcoin/training_data/extest_\" +file_postfix+\".dat\")\n"
   ]
  },
  {
   "cell_type": "code",
   "execution_count": 6,
   "metadata": {},
   "outputs": [
    {
     "name": "stdout",
     "output_type": "stream",
     "text": [
      "(16,) (10, 4)\n",
      "(8500, 56) (8500,) (2125, 56) (2125,)\n"
     ]
    }
   ],
   "source": [
    "# --- obtain training and testing data, plain regression ---\n",
    "\n",
    "file_postfix = \"v_minu_reg\" \n",
    "\n",
    "# features_minu, req_minu, pvol_hour, all_loc_hour\n",
    "x, y, var_explain = prepare_feature_target( features_minu, [], rvol_hour, all_loc_hour, \\\n",
    "                                                        para_order_minu, para_order_hour, bool_feature_selection )\n",
    "print np.shape(x[0][0]), np.shape(x[0][1])\n",
    "    \n",
    "xtrain, ytrain, xtest, ytest = training_testing_plain_regression(x, y, para_train_split_ratio)    \n",
    "print np.shape(xtrain), np.shape(ytrain), np.shape(xtest), np.shape(ytest)\n",
    "\n",
    "np.asarray(xtrain).dump(\"../dataset/bitcoin/training_data/xtrain_\"+file_postfix+\".dat\")\n",
    "np.asarray(xtest ).dump(\"../dataset/bitcoin/training_data/xtest_\" +file_postfix+\".dat\")\n",
    "np.asarray(ytrain).dump(\"../dataset/bitcoin/training_data/ytrain_\"+file_postfix+\".dat\")\n",
    "np.asarray(ytest ).dump(\"../dataset/bitcoin/training_data/ytest_\" +file_postfix+\".dat\")\n"
   ]
  },
  {
   "cell_type": "code",
   "execution_count": 16,
   "metadata": {},
   "outputs": [
    {
     "name": "stdout",
     "output_type": "stream",
     "text": [
      "10625\n",
      "2 (8500,) (2125,)\n"
     ]
    }
   ],
   "source": [
    "# --- obtain training and testing data, mixture: linear --- \n",
    "\n",
    "file_postfix = \"v_minu_mix\"\n",
    "\n",
    "# features_minu, req_minu, pvol_hour, all_loc_hour\n",
    "x, y = prepare_feature_target( features_minu, [], rvol_hour, all_loc_hour, \\\n",
    "                                                        para_order_minu, para_order_hour, bool_feature_selection )\n",
    "print len(x)\n",
    "\n",
    "xtrain, ytrain, xtest, ytest = training_testing_mixture_mlp(x, y, para_train_split_ratio)\n",
    "\n",
    "print len(xtrain[0]), np.shape(ytrain), np.shape(ytest)\n",
    "\n",
    "np.asarray(xtrain).dump(\"../dataset/bitcoin/training_data/xtrain_\"+file_postfix+\".dat\")\n",
    "np.asarray(xtest ).dump(\"../dataset/bitcoin/training_data/xtest_\" +file_postfix+\".dat\")\n",
    "np.asarray(ytrain).dump(\"../dataset/bitcoin/training_data/ytrain_\"+file_postfix+\".dat\")\n",
    "np.asarray(ytest ).dump(\"../dataset/bitcoin/training_data/ytest_\" +file_postfix+\".dat\")\n",
    "\n",
    "#  done for training-test preparaion "
   ]
  },
  {
   "cell_type": "code",
   "execution_count": 28,
   "metadata": {},
   "outputs": [
    {
     "name": "stdout",
     "output_type": "stream",
     "text": [
      "10577\n",
      "2 (8461,) (2116,)\n"
     ]
    }
   ],
   "source": [
    "# --- obtain training and testing data, mixture: rnn --- \n",
    "\n",
    "file_postfix = \"v_minu_mix_rnn\"\n",
    "\n",
    "# features_minu, req_minu, pvol_hour, all_loc_hour\n",
    "x, y = prepare_feature_target( features_minu, [], pvol_hour, all_loc_hour, \\\n",
    "                                                        para_order_minu, para_order_hour, bool_feature_selection )\n",
    "print len(x)\n",
    "\n",
    "xtrain, ytrain, xtest, ytest = training_testing_mixture_rnn(x, y, para_train_split_ratio)\n",
    "\n",
    "print len(xtrain[0]), np.shape(ytrain), np.shape(ytest)\n",
    "\n",
    "np.asarray(xtrain).dump(\"../dataset/bitcoin/training_data/xtrain_\"+file_postfix+\".dat\")\n",
    "np.asarray(xtest ).dump(\"../dataset/bitcoin/training_data/xtest_\" +file_postfix+\".dat\")\n",
    "np.asarray(ytrain).dump(\"../dataset/bitcoin/training_data/ytrain_\"+file_postfix+\".dat\")\n",
    "np.asarray(ytest ).dump(\"../dataset/bitcoin/training_data/ytest_\" +file_postfix+\".dat\")\n"
   ]
  },
  {
   "cell_type": "code",
   "execution_count": null,
   "metadata": {
    "collapsed": true
   },
   "outputs": [],
   "source": [
    "# --- explained variance in feature selection ---\n",
    "\n",
    "print 'percent: ', sum([1 for i in var_explain if i>=0.95])*1.0/len(var_explain)\n",
    "\n",
    "fig, ax = plt.subplots()\n",
    "fig.set_size_inches( 5,5 )\n",
    "ax.hist(var_explain, histtype='bar',  \\\n",
    "        label=['Variance explained'], bins = 30)\n",
    "# ax.set_title('Price proposed by ask and bit requests on one minute', fontsize=13)\n",
    "ax.set_xlabel('Variance', fontsize=13)\n",
    "ax.set_xlim(0.95,1)"
   ]
  }
 ],
 "metadata": {
  "kernelspec": {
   "display_name": "Python 2",
   "language": "python",
   "name": "python2"
  },
  "language_info": {
   "codemirror_mode": {
    "name": "ipython",
    "version": 2
   },
   "file_extension": ".py",
   "mimetype": "text/x-python",
   "name": "python",
   "nbconvert_exporter": "python",
   "pygments_lexer": "ipython2",
   "version": "2.7.12"
  }
 },
 "nbformat": 4,
 "nbformat_minor": 1
}
