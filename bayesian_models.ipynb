{
 "cells": [
  {
   "cell_type": "code",
   "execution_count": null,
   "metadata": {
    "collapsed": true
   },
   "outputs": [],
   "source": [
    "from utils_libs import *\n",
    "from utils_data_prep import *\n",
    "from neural_mixture import *\n",
    "\n",
    "\n",
    "import gzip\n",
    "import os\n",
    "import tempfile\n",
    "\n",
    "import numpy as np\n",
    "import pandas as pd\n",
    "\n",
    "import tensorflow as tf\n",
    "from tensorflow.contrib.learn.python.learn.datasets.mnist import read_data_sets\n",
    "from tensorflow.contrib import rnn\n",
    "\n",
    "import math\n",
    "import random\n"
   ]
  },
  {
   "cell_type": "code",
   "execution_count": null,
   "metadata": {
    "collapsed": true
   },
   "outputs": [],
   "source": [
    "\n",
    "# --- Load pre-processed training and testing data ---\n",
    "file_postfix = \"mle_norm_mix\"\n",
    "\n",
    "xtrain = np.load(\"../dataset/bk/xtrain_\"+file_postfix+\".dat\")\n",
    "xtest  = np.load(\"../dataset/bk/xtest_\" +file_postfix+\".dat\")\n",
    "ytrain = np.load(\"../dataset/bk/ytrain_\"+file_postfix+\".dat\")\n",
    "ytest  = np.load(\"../dataset/bk/ytest_\" +file_postfix+\".dat\")\n",
    "\n",
    "print np.shape(xtrain), np.shape(ytrain), np.shape(xtest), np.shape(ytest)\n",
    "\n",
    "# split training and testing data into three feature groups      \n",
    "xtr_v =   np.asarray( [i[0] for i in xtrain] )\n",
    "xtr_req = np.asarray( [i[1] for i in xtrain] )\n",
    "xtr_distr = np.asarray( [i[2] for i in xtrain] )\n",
    "\n",
    "xts_v =   np.asarray( [i[0] for i in xtest] )\n",
    "xts_req = np.asarray( [i[1] for i in xtest] )\n",
    "xts_distr = np.asarray( [i[2] for i in xtest] )\n",
    "\n",
    "# !! IMPORTANT: feature normalization\n",
    "xts_v = conti_normalization_test_dta(  xts_v, xtr_v )\n",
    "xtr_v = conti_normalization_train_dta( xtr_v )\n",
    "\n",
    "xts_req = conti_normalization_test_dta(  xts_req, xtr_req )\n",
    "xtr_req = conti_normalization_train_dta( xtr_req )\n",
    "\n",
    "xts_distr = conti_normalization_test_dta(  xts_distr, xtr_distr )\n",
    "xtr_distr = conti_normalization_train_dta( xtr_distr )\n",
    "\n",
    "print np.shape(xtr_v), np.shape(xtr_req), np.shape(xtr_distr)\n",
    "\n",
    "print np.shape(xts_v), np.shape(xts_req), np.shape(xts_distr)"
   ]
  }
 ],
 "metadata": {
  "kernelspec": {
   "display_name": "Python 2",
   "language": "python",
   "name": "python2"
  },
  "language_info": {
   "codemirror_mode": {
    "name": "ipython",
    "version": 2
   },
   "file_extension": ".py",
   "mimetype": "text/x-python",
   "name": "python",
   "nbconvert_exporter": "python",
   "pygments_lexer": "ipython2",
   "version": "2.7.12"
  }
 },
 "nbformat": 4,
 "nbformat_minor": 2
}
